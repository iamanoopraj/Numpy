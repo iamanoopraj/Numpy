{
 "cells": [
  {
   "cell_type": "code",
   "execution_count": 1,
   "id": "cbb62866-2ca2-430b-900c-fea74ed2640c",
   "metadata": {},
   "outputs": [],
   "source": [
    "import numpy as np"
   ]
  },
  {
   "cell_type": "code",
   "execution_count": 7,
   "id": "f93c6b04-a831-4e1a-b036-951ecbd711cd",
   "metadata": {},
   "outputs": [
    {
     "name": "stdout",
     "output_type": "stream",
     "text": [
      "[31 49 14 12 19 29 24 48 46 22]\n"
     ]
    }
   ],
   "source": [
    "arr = np.random.randint(10,50,size=10)\n",
    "print(arr)"
   ]
  },
  {
   "cell_type": "code",
   "execution_count": 22,
   "id": "d667cae5-edf2-48a7-9d1e-80ec0f3562f9",
   "metadata": {},
   "outputs": [
    {
     "data": {
      "text/plain": [
       "(array([ 1,  2,  3,  4,  5,  7,  9, 10, 11, 12, 13, 15, 16, 17, 18, 19],\n",
       "       dtype=int64),)"
      ]
     },
     "execution_count": 22,
     "metadata": {},
     "output_type": "execute_result"
    }
   ],
   "source": [
    "# np.where(condition) ==> indices of that condition\n",
    "np.where(arr>30)"
   ]
  },
  {
   "cell_type": "code",
   "execution_count": 25,
   "id": "bd3ebb9b-404b-4205-9016-a00264194ba9",
   "metadata": {},
   "outputs": [],
   "source": [
    "fruits = np.array(['apple','banana','kiwi','chiku','mango'])"
   ]
  },
  {
   "cell_type": "code",
   "execution_count": 26,
   "id": "bd7bb6b2-093d-4e02-b5cc-ea1dc7016098",
   "metadata": {},
   "outputs": [
    {
     "data": {
      "text/plain": [
       "array(['apple', 'banana', 'kiwi', 'chiku', 'mango'], dtype='<U6')"
      ]
     },
     "execution_count": 26,
     "metadata": {},
     "output_type": "execute_result"
    }
   ],
   "source": [
    "fruits"
   ]
  },
  {
   "cell_type": "code",
   "execution_count": 27,
   "id": "87189591-62f8-488c-8b24-e126eaaa4d3e",
   "metadata": {},
   "outputs": [
    {
     "name": "stderr",
     "output_type": "stream",
     "text": [
      "C:\\Users\\Anoop Raj\\AppData\\Local\\Temp\\ipykernel_17068\\1949276183.py:1: DeprecationWarning: Calling nonzero on 0d arrays is deprecated, as it behaves surprisingly. Use `atleast_1d(cond).nonzero()` if the old behavior was intended. If the context of this warning is of the form `arr[nonzero(cond)]`, just use `arr[cond]`.\n",
      "  np.where('i' in fruits)\n"
     ]
    },
    {
     "data": {
      "text/plain": [
       "(array([], dtype=int64),)"
      ]
     },
     "execution_count": 27,
     "metadata": {},
     "output_type": "execute_result"
    }
   ],
   "source": [
    "np.where('i' in fruits)"
   ]
  },
  {
   "cell_type": "code",
   "execution_count": 11,
   "id": "2f2d68c5-d196-4e1d-89fa-e6f4780f32da",
   "metadata": {},
   "outputs": [
    {
     "data": {
      "text/plain": [
       "array([124.  , 196.  ,   3.5 ,   3.  ,   4.75,   7.25,   6.  , 192.  ,\n",
       "       184.  ,   5.5 ])"
      ]
     },
     "execution_count": 11,
     "metadata": {},
     "output_type": "execute_result"
    }
   ],
   "source": [
    "np.where(arr>30,arr*2,arr/2)"
   ]
  },
  {
   "cell_type": "code",
   "execution_count": 15,
   "id": "b73e01d8-5352-40fd-b43c-dcd0ac1897ca",
   "metadata": {},
   "outputs": [
    {
     "data": {
      "text/plain": [
       "array([False,  True, False, False,  True, False, False, False, False,\n",
       "       False,  True, False, False,  True,  True, False, False,  True,\n",
       "       False, False])"
      ]
     },
     "execution_count": 15,
     "metadata": {},
     "output_type": "execute_result"
    }
   ],
   "source": [
    "np.where(arr>30,False,True)"
   ]
  },
  {
   "cell_type": "code",
   "execution_count": 16,
   "id": "1e5915f3-9e62-426b-b4b0-847b4c1e3d11",
   "metadata": {},
   "outputs": [
    {
     "name": "stdout",
     "output_type": "stream",
     "text": [
      "[16 40 68 60 34 74 28 50 14 43 63 33 59 51 20 63 34 67 55 39]\n"
     ]
    }
   ],
   "source": [
    "arr = np.random.randint(10,80,size=20)\n",
    "print(arr)"
   ]
  },
  {
   "cell_type": "code",
   "execution_count": 17,
   "id": "498b2451-b4bb-45c2-bf9a-807659baba3f",
   "metadata": {},
   "outputs": [
    {
     "data": {
      "text/plain": [
       "array(['poor', 'average', 'good', 'good', 'average', 'good', 'poor',\n",
       "       'good', 'poor', 'average', 'good', 'average', 'good', 'good',\n",
       "       'poor', 'good', 'average', 'good', 'good', 'average'], dtype='<U7')"
      ]
     },
     "execution_count": 17,
     "metadata": {},
     "output_type": "execute_result"
    }
   ],
   "source": [
    "np.where(arr>=50,'good',np.where(arr>=30,\"average\",'poor'))"
   ]
  },
  {
   "cell_type": "code",
   "execution_count": 18,
   "id": "96a9fcc2-00af-4c28-97eb-da1a8797117d",
   "metadata": {},
   "outputs": [
    {
     "data": {
      "text/plain": [
       "array([16, 40, 68, 60, 34, 74, 28, 50, 14, 43, 63, 33, 59, 51, 20, 63, 34,\n",
       "       67, 55, 39])"
      ]
     },
     "execution_count": 18,
     "metadata": {},
     "output_type": "execute_result"
    }
   ],
   "source": [
    "arr"
   ]
  },
  {
   "cell_type": "code",
   "execution_count": 19,
   "id": "80f471d8-20f7-40c5-8d9e-2f6f0aa42990",
   "metadata": {},
   "outputs": [
    {
     "data": {
      "text/plain": [
       "5"
      ]
     },
     "execution_count": 19,
     "metadata": {},
     "output_type": "execute_result"
    }
   ],
   "source": [
    "np.argmax(arr) # index of maximum value"
   ]
  },
  {
   "cell_type": "code",
   "execution_count": 20,
   "id": "4422d7fe-6a1e-44c3-9f5f-687411f851a6",
   "metadata": {},
   "outputs": [
    {
     "data": {
      "text/plain": [
       "74"
      ]
     },
     "execution_count": 20,
     "metadata": {},
     "output_type": "execute_result"
    }
   ],
   "source": [
    "arr[np.argmax(arr)]"
   ]
  },
  {
   "cell_type": "code",
   "execution_count": 21,
   "id": "f4cfc85f-f07d-472f-8827-fee1c8df6163",
   "metadata": {},
   "outputs": [
    {
     "data": {
      "text/plain": [
       "14"
      ]
     },
     "execution_count": 21,
     "metadata": {},
     "output_type": "execute_result"
    }
   ],
   "source": [
    "arr[np.argmin(arr)]"
   ]
  },
  {
   "cell_type": "code",
   "execution_count": 28,
   "id": "651a362c-655a-4c8b-9ae0-a165ed04c835",
   "metadata": {},
   "outputs": [
    {
     "data": {
      "text/plain": [
       "45.55"
      ]
     },
     "execution_count": 28,
     "metadata": {},
     "output_type": "execute_result"
    }
   ],
   "source": [
    "np.mean(arr)"
   ]
  },
  {
   "cell_type": "code",
   "execution_count": 29,
   "id": "ddd30e1e-c80e-4e22-9d3e-8d46b452e5a2",
   "metadata": {},
   "outputs": [
    {
     "data": {
      "text/plain": [
       "911"
      ]
     },
     "execution_count": 29,
     "metadata": {},
     "output_type": "execute_result"
    }
   ],
   "source": [
    "np.sum(arr)"
   ]
  },
  {
   "cell_type": "code",
   "execution_count": 31,
   "id": "e79831bb-69ff-4efe-99b5-f64beaf6f5dd",
   "metadata": {},
   "outputs": [
    {
     "data": {
      "text/plain": [
       "46.5"
      ]
     },
     "execution_count": 31,
     "metadata": {},
     "output_type": "execute_result"
    }
   ],
   "source": [
    "np.median(arr)"
   ]
  },
  {
   "cell_type": "code",
   "execution_count": 32,
   "id": "8a373c20-c03a-44b4-bd69-27d532d71c6a",
   "metadata": {},
   "outputs": [],
   "source": [
    "arr1 = np.array([1,2,3])\n",
    "arr2 = np.array([10,20,30])"
   ]
  },
  {
   "cell_type": "code",
   "execution_count": 33,
   "id": "09af85aa-fd08-4119-af34-debb4cc519bc",
   "metadata": {},
   "outputs": [
    {
     "data": {
      "text/plain": [
       "array([11, 22, 33])"
      ]
     },
     "execution_count": 33,
     "metadata": {},
     "output_type": "execute_result"
    }
   ],
   "source": [
    "arr1+arr2"
   ]
  },
  {
   "cell_type": "code",
   "execution_count": 34,
   "id": "a8863067-18a9-4713-9c5e-da05d9ed4e6f",
   "metadata": {},
   "outputs": [
    {
     "data": {
      "text/plain": [
       "array([10, 40, 90])"
      ]
     },
     "execution_count": 34,
     "metadata": {},
     "output_type": "execute_result"
    }
   ],
   "source": [
    "arr1*arr2"
   ]
  },
  {
   "cell_type": "code",
   "execution_count": 35,
   "id": "64a93031-153c-42b6-b3db-c3b422ae1649",
   "metadata": {},
   "outputs": [
    {
     "data": {
      "text/plain": [
       "array([0.1, 0.1, 0.1])"
      ]
     },
     "execution_count": 35,
     "metadata": {},
     "output_type": "execute_result"
    }
   ],
   "source": [
    "arr1/arr2"
   ]
  },
  {
   "cell_type": "code",
   "execution_count": null,
   "id": "a398b982-7860-437a-8613-c838c36b8be2",
   "metadata": {},
   "outputs": [],
   "source": [
    "np.matmul()"
   ]
  }
 ],
 "metadata": {
  "kernelspec": {
   "display_name": "Python 3 (ipykernel)",
   "language": "python",
   "name": "python3"
  },
  "language_info": {
   "codemirror_mode": {
    "name": "ipython",
    "version": 3
   },
   "file_extension": ".py",
   "mimetype": "text/x-python",
   "name": "python",
   "nbconvert_exporter": "python",
   "pygments_lexer": "ipython3",
   "version": "3.11.7"
  }
 },
 "nbformat": 4,
 "nbformat_minor": 5
}
